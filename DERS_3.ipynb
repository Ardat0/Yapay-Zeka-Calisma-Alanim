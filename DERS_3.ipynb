{
  "nbformat": 4,
  "nbformat_minor": 0,
  "metadata": {
    "colab": {
      "provenance": []
    },
    "kernelspec": {
      "name": "python3",
      "display_name": "Python 3"
    },
    "language_info": {
      "name": "python"
    }
  },
  "cells": [
    {
      "cell_type": "markdown",
      "source": [
        "BeautifulSoup\n",
        "\n",
        "İnternet sayfasından başlıkları (h1, h2, h3) alır ve ekrana yazdırır."
      ],
      "metadata": {
        "id": "s0EkH54P--wu"
      }
    },
    {
      "cell_type": "code",
      "source": [
        "from google.colab import drive # google colab - drive bağlantısı\n",
        "\n",
        "drive.mount ('/content/drive')"
      ],
      "metadata": {
        "colab": {
          "base_uri": "https://localhost:8080/"
        },
        "id": "Wl1EmfGN9AWN",
        "outputId": "c13b8463-452a-48c4-96bf-80e8bad479c2"
      },
      "execution_count": 1,
      "outputs": [
        {
          "output_type": "stream",
          "name": "stdout",
          "text": [
            "Mounted at /content/drive\n"
          ]
        }
      ]
    },
    {
      "cell_type": "code",
      "source": [
        "import os\n",
        "\n",
        "os.chdir('/content/drive/My Drive/yapayzeka')\n",
        "\n",
        "!pwd # bize kodun çıktısını dosya yolu olarak veren kod blogudur."
      ],
      "metadata": {
        "colab": {
          "base_uri": "https://localhost:8080/"
        },
        "id": "BZaM3El29TqO",
        "outputId": "00b324db-99d2-4e82-c18d-83864bb3e4ab"
      },
      "execution_count": 2,
      "outputs": [
        {
          "output_type": "stream",
          "name": "stdout",
          "text": [
            "/content/drive/My Drive/yapayzeka\n"
          ]
        }
      ]
    },
    {
      "cell_type": "code",
      "source": [
        "import requests\n",
        "from bs4 import BeautifulSoup\n",
        "\n",
        "# Web sayfasının URL'si\n",
        "url = 'https://www.kilicdeniz.com.tr/'\n",
        "\n",
        "# Web sayfası indir\n",
        "response = requests.get(url)\n",
        "\n",
        "# Eğer bağlantı başarılıysa\n",
        "if response.status_code == 200:\n",
        "\n",
        "# HTML içeriğini ayrıştır\n",
        "    soup = BeautifulSoup(response.content,'html.parser')\n",
        "\n",
        "# Örnek olarak sayfadaki tüm başlıkları (h1,h2,h3 vb.) çek\n",
        "for heading in soup.find_all(['h1','h2','h3']):\n",
        "   print(heading.text.strip())\n",
        "\n",
        "else:\n",
        "     print(\"Bağlantısı başarısız:\", response.status_code)"
      ],
      "metadata": {
        "colab": {
          "base_uri": "https://localhost:8080/"
        },
        "id": "fb2kHI5V-Cwv",
        "outputId": "56877c6e-83a7-4719-c9c4-39da3278d0f3"
      },
      "execution_count": 6,
      "outputs": [
        {
          "output_type": "stream",
          "name": "stdout",
          "text": [
            "Portakallı & Tane Karabiberli Akdeniz Kaya Levreği\n",
            "Portakallı & Tane Karabiberli Akdeniz Kaya Levreği\n",
            "Pratik Lezzetler\n",
            "HABERLER\n",
            "Seafood Expo Global 2024 Fuarı’nda yerimizi aldık.\n",
            "FISH INTERNATIONAL BREMEN 2024 FUARINA KATILIM SAĞLADIK\n",
            "SEAFOOD EXPO NORTH AMERICA 2024 FUARINA KATILIM SAĞLADIK.\n",
            "KILIÇ DENİZ 2022 YILINDA DA İHRACAT ŞAMPİYONU\n",
            "KILIÇ DENİZ 2021 YILI İHRACAT ŞAMPİYONU\n",
            "Kılıç Deniz, 2020 yılı Ege İhracatçı Birlikleri Şampiyonluk Ödülünü aldı\n",
            "Kılıç Deniz- MSKÜ Basın Bülteni\n",
            "Kılıç Deniz’e Uluslararası Ödül\n",
            "Başbakan Yıldırım’dan Kılıç’a onur ödülü\n",
            "Bakan Pakdemirli, Kılıç Deniz Ürünleri Entegre Tesisleri’ni ziyaret etti\n",
            "KILIÇ HOLDİNG’E İNSANA SAYGI ÖDÜLÜ\n",
            "KILIÇ HOLDİNG’E ÇİFTE ÖDÜL HEM İHRACAT HEM DE HAVA KARGO DA BİRİNCİ\n",
            "TÜRKİYE SU ÜRÜNLERİ VE HAYVANSAL MAMULLER İHRACAT ŞAMPİYONU KILIÇ HOLDİNG\n",
            "Ürünler\n",
            "Sürdürülebilirlik\n",
            "Hakkımızda\n",
            "Bağlantısı başarısız: 200\n"
          ]
        }
      ]
    },
    {
      "cell_type": "code",
      "source": [
        "import requests\n",
        "from bs4 import BeautifulSoup\n",
        "\n",
        "url = 'https://github.com/Ardat0'\n",
        "\n",
        "response = requests.get(url)\n",
        "\n",
        "if response.status_code == 200:\n",
        "    soup = BeautifulSoup(response.content, 'html.parser')\n",
        "\n",
        "    links = soup.find_all('a')\n",
        "\n",
        "    for link in links:\n",
        "        href = link.get('href')\n",
        "        text = link.text.strip()\n",
        "        if href:\n",
        "            print(\"Bağlantı metni: \", text, \"URL:\", href)\n",
        "    print(\"Toplam bulunan bilgi sayısı: \", len(links), \" adet\")\n",
        "else:\n",
        "    print(\"Bağlantı başarısız: \", response.status_code)"
      ],
      "metadata": {
        "colab": {
          "base_uri": "https://localhost:8080/"
        },
        "id": "SanmVd0Z_Bve",
        "outputId": "ef71e251-ec28-431b-f590-2d0d2c127eb8"
      },
      "execution_count": 7,
      "outputs": [
        {
          "output_type": "stream",
          "name": "stdout",
          "text": [
            "Bağlantı metni:  Skip to content URL: #start-of-content\n",
            "Bağlantı metni:   URL: /\n",
            "Bağlantı metni:  Sign in URL: /login?return_to=https%3A%2F%2Fgithub.com%2FArdat0\n",
            "Bağlantı metni:  GitHub Copilot\n",
            "        Write better code with AI URL: https://github.com/features/copilot\n",
            "Bağlantı metni:  Security\n",
            "        Find and fix vulnerabilities URL: https://github.com/features/security\n",
            "Bağlantı metni:  Actions\n",
            "        Automate any workflow URL: https://github.com/features/actions\n",
            "Bağlantı metni:  Codespaces\n",
            "        Instant dev environments URL: https://github.com/features/codespaces\n",
            "Bağlantı metni:  Issues\n",
            "        Plan and track work URL: https://github.com/features/issues\n",
            "Bağlantı metni:  Code Review\n",
            "        Manage code changes URL: https://github.com/features/code-review\n",
            "Bağlantı metni:  Discussions\n",
            "        Collaborate outside of code URL: https://github.com/features/discussions\n",
            "Bağlantı metni:  Code Search\n",
            "        Find more, search less URL: https://github.com/features/code-search\n",
            "Bağlantı metni:  All features URL: https://github.com/features\n",
            "Bağlantı metni:  Documentation URL: https://docs.github.com\n",
            "Bağlantı metni:  GitHub Skills URL: https://skills.github.com\n",
            "Bağlantı metni:  Blog URL: https://github.blog\n",
            "Bağlantı metni:  Enterprise URL: https://github.com/enterprise\n",
            "Bağlantı metni:  Teams URL: https://github.com/team\n",
            "Bağlantı metni:  Startups URL: https://github.com/enterprise/startups\n",
            "Bağlantı metni:  Healthcare URL: https://github.com/solutions/industries/healthcare\n",
            "Bağlantı metni:  Financial services URL: https://github.com/solutions/industries/financial-services\n",
            "Bağlantı metni:  Manufacturing URL: https://github.com/solutions/industries/manufacturing\n",
            "Bağlantı metni:  CI/CD & Automation URL: https://github.com/solutions/ci-cd\n",
            "Bağlantı metni:  DevOps URL: https://github.com/solutions/devops\n",
            "Bağlantı metni:  DevSecOps URL: https://github.com/solutions/devsecops\n",
            "Bağlantı metni:  AI URL: /resources/articles/ai\n",
            "Bağlantı metni:  DevOps URL: /resources/articles/devops\n",
            "Bağlantı metni:  Security URL: /resources/articles/security\n",
            "Bağlantı metni:  Software Development URL: /resources/articles/software-development\n",
            "Bağlantı metni:  View all URL: /resources/articles\n",
            "Bağlantı metni:  Learning Pathways URL: https://resources.github.com/learn/pathways\n",
            "Bağlantı metni:  White papers, Ebooks, Webinars URL: https://resources.github.com\n",
            "Bağlantı metni:  Customer Stories URL: https://github.com/customer-stories\n",
            "Bağlantı metni:  Partners URL: https://partner.github.com\n",
            "Bağlantı metni:  GitHub Sponsors\n",
            "        Fund open source developers URL: /sponsors\n",
            "Bağlantı metni:  The ReadME Project\n",
            "        GitHub community articles URL: https://github.com/readme\n",
            "Bağlantı metni:  Topics URL: https://github.com/topics\n",
            "Bağlantı metni:  Trending URL: https://github.com/trending\n",
            "Bağlantı metni:  Collections URL: https://github.com/collections\n",
            "Bağlantı metni:  Enterprise platform\n",
            "        AI-powered developer platform URL: /enterprise\n",
            "Bağlantı metni:  Advanced Security\n",
            "        Enterprise-grade security features URL: https://github.com/enterprise/advanced-security\n",
            "Bağlantı metni:  GitHub Copilot\n",
            "        Enterprise-grade AI features URL: /features/copilot#enterprise\n",
            "Bağlantı metni:  Premium Support\n",
            "        Enterprise-grade 24/7 support URL: /premium-support\n",
            "Bağlantı metni:  Pricing URL: https://github.com/pricing\n",
            "Bağlantı metni:  Search syntax tips URL: https://docs.github.com/search-github/github-code-search/understanding-github-code-search-syntax\n",
            "Bağlantı metni:  documentation URL: https://docs.github.com/search-github/github-code-search/understanding-github-code-search-syntax\n",
            "Bağlantı metni:  Sign in URL: /login?return_to=https%3A%2F%2Fgithub.com%2FArdat0\n",
            "Bağlantı metni:  Sign up URL: /signup?ref_cta=Sign+up&ref_loc=header+logged+out&ref_page=%2F%3Cuser-name%3E&source=header\n",
            "Bağlantı metni:  Follow URL: /login?return_to=https%3A%2F%2Fgithub.com%2FArdat0\n",
            "Bağlantı metni:  Overview URL: /Ardat0\n",
            "Bağlantı metni:  Repositories\n",
            "    1 URL: /Ardat0?tab=repositories\n",
            "Bağlantı metni:  Projects\n",
            "    0 URL: /Ardat0?tab=projects\n",
            "Bağlantı metni:  Packages\n",
            "      0 URL: /Ardat0?tab=packages\n",
            "Bağlantı metni:  Stars\n",
            "    1 URL: /Ardat0?tab=stars\n",
            "Bağlantı metni:  Overview URL: /Ardat0\n",
            "Bağlantı metni:  Repositories URL: /Ardat0?tab=repositories\n",
            "Bağlantı metni:  Projects URL: /Ardat0?tab=projects\n",
            "Bağlantı metni:  Packages URL: /Ardat0?tab=packages\n",
            "Bağlantı metni:  Stars URL: /Ardat0?tab=stars\n",
            "Bağlantı metni:  Follow URL: /login?return_to=https%3A%2F%2Fgithub.com%2FArdat0\n",
            "Bağlantı metni:   URL: https://avatars.githubusercontent.com/u/183419193?v=4\n",
            "Bağlantı metni:  Follow URL: /login?return_to=https%3A%2F%2Fgithub.com%2FArdat0\n",
            "Bağlantı metni:  0\n",
            "          followers URL: https://github.com/Ardat0?tab=followers\n",
            "Bağlantı metni:  1\n",
            "          following URL: https://github.com/Ardat0?tab=following\n",
            "Bağlantı metni:  blocking users URL: https://docs.github.com/articles/blocking-a-user-from-your-personal-account\n",
            "Bağlantı metni:  reporting abuse URL: https://docs.github.com/articles/reporting-abuse-or-spam\n",
            "Bağlantı metni:  Report abuse URL: /contact/report-abuse?report=Ardat0+%28user%29\n",
            "Bağlantı metni:  Overview URL: /Ardat0\n",
            "Bağlantı metni:  Repositories\n",
            "    1 URL: /Ardat0?tab=repositories\n",
            "Bağlantı metni:  Projects\n",
            "    0 URL: /Ardat0?tab=projects\n",
            "Bağlantı metni:  Packages\n",
            "      0 URL: /Ardat0?tab=packages\n",
            "Bağlantı metni:  Stars\n",
            "    1 URL: /Ardat0?tab=stars\n",
            "Bağlantı metni:  Overview URL: /Ardat0\n",
            "Bağlantı metni:  Repositories URL: /Ardat0?tab=repositories\n",
            "Bağlantı metni:  Projects URL: /Ardat0?tab=projects\n",
            "Bağlantı metni:  Packages URL: /Ardat0?tab=packages\n",
            "Bağlantı metni:  Stars URL: /Ardat0?tab=stars\n",
            "Bağlantı metni:  Yapay-Zeka-Calisma-Alanim URL: /Ardat0/Yapay-Zeka-Calisma-Alanim\n",
            "Bağlantı metni:  GitHub status page URL: https://www.githubstatus.com/\n",
            "Bağlantı metni:  contact support URL: /contact\n",
            "Bağlantı metni:   URL: https://github.com\n",
            "Bağlantı metni:  Terms URL: https://docs.github.com/site-policy/github-terms/github-terms-of-service\n",
            "Bağlantı metni:  Privacy URL: https://docs.github.com/site-policy/privacy-policies/github-privacy-statement\n",
            "Bağlantı metni:  Security URL: https://github.com/security\n",
            "Bağlantı metni:  Status URL: https://www.githubstatus.com/\n",
            "Bağlantı metni:  Docs URL: https://docs.github.com/\n",
            "Bağlantı metni:  Contact URL: https://support.github.com?tags=dotcom-footer\n",
            "Toplam bulunan bilgi sayısı:  89  adet\n"
          ]
        }
      ]
    },
    {
      "cell_type": "code",
      "source": [
        "import os\n",
        "import cv2\n",
        "import matplotlib.pyplot as plt"
      ],
      "metadata": {
        "id": "l7exf3tdF405"
      },
      "execution_count": 9,
      "outputs": []
    },
    {
      "cell_type": "code",
      "source": [
        "klasor_yolu = '/content/drive/My Drive/yapayzeka'"
      ],
      "metadata": {
        "id": "ko11ILdWGAkg"
      },
      "execution_count": 8,
      "outputs": []
    },
    {
      "cell_type": "code",
      "source": [
        "resim_formatlari = ('.png', '.jpg', '.jpeg', '.bmp', '.gif', '.tiff')"
      ],
      "metadata": {
        "id": "igvmad1MGJHR"
      },
      "execution_count": 11,
      "outputs": []
    },
    {
      "cell_type": "code",
      "source": [
        "islenen_bilgi = [f for f in os.listdir(klasor_yolu) if f.lower().endswith(resim_formatlari)]\n",
        "\n",
        "print(f\"Klasörde \", len(islenen_bilgi), \"tane resim var.\")\n",
        "\n",
        "print(\"Resim dosyalarının isimleri ve dosya uzantıları\")\n",
        "\n",
        "for i in islenen_bilgi:\n",
        "    print(i)"
      ],
      "metadata": {
        "colab": {
          "base_uri": "https://localhost:8080/"
        },
        "id": "tWY81IZVGM3h",
        "outputId": "0f8cd1e3-8028-4d29-a466-59b1ff16da00"
      },
      "execution_count": 12,
      "outputs": [
        {
          "output_type": "stream",
          "name": "stdout",
          "text": [
            "Klasörde  0 tane resim var.\n",
            "Resim dosyalarının isimleri ve dosya uzantıları\n"
          ]
        }
      ]
    },
    {
      "cell_type": "code",
      "source": [],
      "metadata": {
        "id": "28iw8aTpInDS"
      },
      "execution_count": null,
      "outputs": []
    }
  ]
}